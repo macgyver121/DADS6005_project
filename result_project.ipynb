{
  "nbformat": 4,
  "nbformat_minor": 0,
  "metadata": {
    "colab": {
      "provenance": [],
      "authorship_tag": "ABX9TyNYEE1Ucg4yZpVxjZyu/ooN",
      "include_colab_link": true
    },
    "kernelspec": {
      "name": "python3",
      "display_name": "Python 3"
    },
    "language_info": {
      "name": "python"
    }
  },
  "cells": [
    {
      "cell_type": "markdown",
      "metadata": {
        "id": "view-in-github",
        "colab_type": "text"
      },
      "source": [
        "<a href=\"https://colab.research.google.com/github/macgyver121/DADS6005_project/blob/main/result_project.ipynb\" target=\"_parent\"><img src=\"https://colab.research.google.com/assets/colab-badge.svg\" alt=\"Open In Colab\"/></a>"
      ]
    },
    {
      "cell_type": "code",
      "source": [
        "import numpy as np\n",
        "import array\n",
        "import pandas as pd"
      ],
      "metadata": {
        "id": "uW_b0tBHm8hP"
      },
      "execution_count": 4,
      "outputs": []
    },
    {
      "cell_type": "code",
      "execution_count": 27,
      "metadata": {
        "id": "Teh86d6WmoP-"
      },
      "outputs": [],
      "source": [
        "str_btc = 'array(0), array(1), array(1), array(1), array(1), array(1), array(0), array(0), array(0), array(0), array(1), array(0), array(1), array(0), array(0), array(1), array(0), array(0), array(0), array(0), array(0), array(1), array(0), array(0), array(1), array(1), array(1), array(1), array(1), array(1), array(1), array(1), array(1), array(1), array(1), array(1), array(1), array(1), array(1), array(1), array(0), array(0), array(0), array(0), array(0), array(0), array(1), array(0), array(0), array(0), array(0), array(0), array(0), array(0), array(0), array(1)'\n",
        "test_list = str_btc.split(',')\n",
        "res = [sub.split('(')[1] for sub in test_list]\n",
        "lst_pred_btc = [int(i[0]) for i in res]\n",
        "lst_price_bts = [17245.21, 17246.59, 17247.03, 17248.09, 17250.76, 17251.28, 17250.46, 17250.46, 17245.74, 17245.74, 17248.95, 17248.95, 17245.06, 17245.06, 17237.6, 17237.6, 17242.68, 17242.68, 17243.54, 17243.54, 17238.08, 17238.08, 17242.54, 17242.54, 17238.48, 17238.48, 17244.97, 17244.97, 17249.06, 17249.06, 17249.66, 17249.66, 17249.66, 17250.13, 17251.87, 17253.86, 17253.92, 17266.71, 17272.81, 17272.81, 17267.21, 17267.21, 17265.58, 17265.58, 17261.76, 17261.76, 17268.77, 17268.77, 17264.77, 17264.77, 17264.77, 17262.91, 17262.21, 17265.31, 17262.36, 17263.1]\n",
        "df = pd.DataFrame(lst_pred_btc, lst_price_bts)"
      ]
    },
    {
      "cell_type": "code",
      "source": [
        "len(lst_price_bts)"
      ],
      "metadata": {
        "colab": {
          "base_uri": "https://localhost:8080/"
        },
        "id": "2UnUHTGjs5qc",
        "outputId": "49369b69-f0ca-478f-f8cc-ef8a325cd139"
      },
      "execution_count": 30,
      "outputs": [
        {
          "output_type": "execute_result",
          "data": {
            "text/plain": [
              "56"
            ]
          },
          "metadata": {},
          "execution_count": 30
        }
      ]
    },
    {
      "cell_type": "code",
      "source": [
        "print(df)"
      ],
      "metadata": {
        "colab": {
          "base_uri": "https://localhost:8080/"
        },
        "id": "n2icY91HpHX2",
        "outputId": "079d46fc-5d4c-4102-efb5-99762ef1cfe7"
      },
      "execution_count": 28,
      "outputs": [
        {
          "output_type": "stream",
          "name": "stdout",
          "text": [
            "          0\n",
            "17245.21  0\n",
            "17246.59  1\n",
            "17247.03  1\n",
            "17248.09  1\n",
            "17250.76  1\n",
            "17251.28  1\n",
            "17250.46  0\n",
            "17250.46  0\n",
            "17245.74  0\n",
            "17245.74  0\n",
            "17248.95  1\n",
            "17248.95  0\n",
            "17245.06  1\n",
            "17245.06  0\n",
            "17237.60  0\n",
            "17237.60  1\n",
            "17242.68  0\n",
            "17242.68  0\n",
            "17243.54  0\n",
            "17243.54  0\n",
            "17238.08  0\n",
            "17238.08  1\n",
            "17242.54  0\n",
            "17242.54  0\n",
            "17238.48  1\n",
            "17238.48  1\n",
            "17244.97  1\n",
            "17244.97  1\n",
            "17249.06  1\n",
            "17249.06  1\n",
            "17249.66  1\n",
            "17249.66  1\n",
            "17249.66  1\n",
            "17250.13  1\n",
            "17251.87  1\n",
            "17253.86  1\n",
            "17253.92  1\n",
            "17266.71  1\n",
            "17272.81  1\n",
            "17272.81  1\n",
            "17267.21  0\n",
            "17267.21  0\n",
            "17265.58  0\n",
            "17265.58  0\n",
            "17261.76  0\n",
            "17261.76  0\n",
            "17268.77  1\n",
            "17268.77  0\n",
            "17264.77  0\n",
            "17264.77  0\n",
            "17264.77  0\n",
            "17262.91  0\n",
            "17262.21  0\n",
            "17265.31  0\n",
            "17262.36  0\n",
            "17263.10  1\n"
          ]
        }
      ]
    },
    {
      "cell_type": "code",
      "source": [
        "str_doge = 'array(0), array(0), array(1), array(1), array(0), array(0), array(0), array(0), array(0), array(0), array(0), array(0), array(0), array(0), array(1), array(1), array(1), array(1), array(0), array(0), array(0), array(1), array(0), array(0), array(1), array(1), array(1), array(1), array(1), array(1), array(1), array(1), array(1), array(1), array(1), array(1), array(1), array(1), array(0), array(0), array(0), array(0), array(0), array(0), array(0), array(0), array(0), array(0), array(0), array(0), array(0), array(0), array(1), array(1), array(0), array(0)'\n",
        "test_list2 = str_doge.split(',')\n",
        "res2 = [sub.split('(')[1] for sub in test_list2]\n",
        "lst_pred_doge = [int(i[0]) for i in res2]\n",
        "lst_price_doge = [0.07655, 0.07654, 0.07655, 0.07658, 0.07658, 0.07648, 0.07657, 0.07657, 0.07651, 0.07651, 0.07649, 0.07649, 0.07638, 0.07638, 0.07639, 0.07639, 0.07648, 0.07648, 0.07649, 0.07649, 0.07638, 0.07638, 0.07638, 0.07638, 0.07636, 0.07636, 0.07651, 0.07651, 0.07657, 0.07657, 0.07656, 0.07656, 0.07656, 0.07663, 0.07672, 0.0767, 0.07673, 0.07676, 0.07684, 0.07684, 0.07677, 0.07677, 0.07668, 0.07668, 0.07671, 0.07671, 0.07674, 0.07674, 0.07662, 0.07662, 0.07662, 0.07665, 0.07662, 0.07668, 0.07666, 0.07663]\n",
        "df2 = pd.DataFrame(lst_pred_doge, lst_price_doge)"
      ],
      "metadata": {
        "id": "MEwVWmrupIcS"
      },
      "execution_count": 26,
      "outputs": []
    },
    {
      "cell_type": "code",
      "source": [
        "print(df2)"
      ],
      "metadata": {
        "colab": {
          "base_uri": "https://localhost:8080/"
        },
        "id": "MEfI3SLdp4OD",
        "outputId": "947ff3b4-51ca-46ef-bef9-889be273eb98"
      },
      "execution_count": 29,
      "outputs": [
        {
          "output_type": "stream",
          "name": "stdout",
          "text": [
            "         0\n",
            "0.07655  0\n",
            "0.07654  0\n",
            "0.07655  1\n",
            "0.07658  1\n",
            "0.07658  0\n",
            "0.07648  0\n",
            "0.07657  0\n",
            "0.07657  0\n",
            "0.07651  0\n",
            "0.07651  0\n",
            "0.07649  0\n",
            "0.07649  0\n",
            "0.07638  0\n",
            "0.07638  0\n",
            "0.07639  1\n",
            "0.07639  1\n",
            "0.07648  1\n",
            "0.07648  1\n",
            "0.07649  0\n",
            "0.07649  0\n",
            "0.07638  0\n",
            "0.07638  1\n",
            "0.07638  0\n",
            "0.07638  0\n",
            "0.07636  1\n",
            "0.07636  1\n",
            "0.07651  1\n",
            "0.07651  1\n",
            "0.07657  1\n",
            "0.07657  1\n",
            "0.07656  1\n",
            "0.07656  1\n",
            "0.07656  1\n",
            "0.07663  1\n",
            "0.07672  1\n",
            "0.07670  1\n",
            "0.07673  1\n",
            "0.07676  1\n",
            "0.07684  0\n",
            "0.07684  0\n",
            "0.07677  0\n",
            "0.07677  0\n",
            "0.07668  0\n",
            "0.07668  0\n",
            "0.07671  0\n",
            "0.07671  0\n",
            "0.07674  0\n",
            "0.07674  0\n",
            "0.07662  0\n",
            "0.07662  0\n",
            "0.07662  0\n",
            "0.07665  0\n",
            "0.07662  1\n",
            "0.07668  1\n",
            "0.07666  0\n",
            "0.07663  0\n"
          ]
        }
      ]
    },
    {
      "cell_type": "code",
      "source": [],
      "metadata": {
        "id": "-SmetE0vp7si"
      },
      "execution_count": null,
      "outputs": []
    }
  ]
}